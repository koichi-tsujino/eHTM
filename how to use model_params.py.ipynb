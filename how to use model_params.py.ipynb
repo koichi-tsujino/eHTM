{
 "cells": [
  {
   "cell_type": "markdown",
   "metadata": {},
   "source": [
    "# model_parasm.py の使い方\n",
    "\n",
    "http://nupic.docs.numenta.org/1.0.1/guides/swarming/running.html\n",
    "にある例で、\n",
    "\n",
    "$NUPIC/scripts/run_swarm.py $NUPIC/examples/swarm/simple/search_def.json  --maxWorkers=4\n",
    "を実行すると。\n",
    "\n",
    "examples/swarm/simpleに、model_0/model_params.pyができます。\n",
    "その中身は、以下の通りです。"
   ]
  },
  {
   "cell_type": "code",
   "execution_count": null,
   "metadata": {
    "collapsed": true
   },
   "outputs": [],
   "source": [
    "# ----------------------------------------------------------------------\n",
    "# Numenta Platform for Intelligent Computing (NuPIC)\n",
    "# Copyright (C) 2013, Numenta, Inc.  Unless you have an agreement\n",
    "# with Numenta, Inc., for a separate license for this software code, the\n",
    "# following terms and conditions apply:\n",
    "#\n",
    "# This program is free software: you can redistribute it and/or modify\n",
    "# it under the terms of the GNU Affero Public License version 3 as\n",
    "# published by the Free Software Foundation.\n",
    "#\n",
    "# This program is distributed in the hope that it will be useful,\n",
    "# but WITHOUT ANY WARRANTY; without even the implied warranty of\n",
    "# MERCHANTABILITY or FITNESS FOR A PARTICULAR PURPOSE.\n",
    "# See the GNU Affero Public License for more details.\n",
    "#\n",
    "# You should have received a copy of the GNU Affero Public License\n",
    "# along with this program.  If not, see http://www.gnu.org/licenses.\n",
    "#\n",
    "# http://numenta.org/licenses/\n",
    "# ----------------------------------------------------------------------\n",
    "\n",
    "MODEL_PARAMS = {'aggregationInfo': {'days': 0,\n",
    "                     'fields': [(u'timestamp', 'first'),\n",
    "                                (u'gym', 'first'),\n",
    "                                (u'consumption', 'sum')],\n",
    "                     'hours': 1,\n",
    "                     'microseconds': 0,\n",
    "                     'milliseconds': 0,\n",
    "                     'minutes': 0,\n",
    "                     'months': 0,\n",
    "                     'seconds': 0,\n",
    "                     'weeks': 0,\n",
    "                     'years': 0},\n",
    " 'model': 'HTMPrediction',\n",
    " 'modelParams': {'anomalyParams': {u'anomalyCacheRecords': None,\n",
    "                                   u'autoDetectThreshold': None,\n",
    "                                   u'autoDetectWaitRecords': None},\n",
    "                 'clParams': {'alpha': 0.050050000000000004,\n",
    "                              'regionName': 'SDRClassifierRegion',\n",
    "                              'steps': '1',\n",
    "                              'verbosity': 0},\n",
    "                 'inferenceType': 'NontemporalMultiStep',\n",
    "                 'sensorParams': {'encoders': {'_classifierInput': {'classifierOnly': True,\n",
    "                                                                    'clipInput': True,\n",
    "                                                                    'fieldname': 'consumption',\n",
    "                                                                    'n': 275,\n",
    "                                                                    'name': '_classifierInput',\n",
    "                                                                    'type': 'AdaptiveScalarEncoder',\n",
    "                                                                    'w': 21},\n",
    "                                               u'consumption': {'clipInput': True,\n",
    "                                                                'fieldname': 'consumption',\n",
    "                                                                'n': 272,\n",
    "                                                                'name': 'consumption',\n",
    "                                                                'type': 'AdaptiveScalarEncoder',\n",
    "                                                                'w': 21},\n",
    "                                               u'timestamp_dayOfWeek': None,\n",
    "                                               u'timestamp_timeOfDay': None,\n",
    "                                               u'timestamp_weekend': None},\n",
    "                                  'sensorAutoReset': None,\n",
    "                                  'verbosity': 0},\n",
    "                 'spEnable': True,\n",
    "                 'spParams': {'boostStrength': 0.0,\n",
    "                              'columnCount': 2048,\n",
    "                              'globalInhibition': 1,\n",
    "                              'inputWidth': 0,\n",
    "                              'numActiveColumnsPerInhArea': 40,\n",
    "                              'potentialPct': 0.8,\n",
    "                              'seed': 1956,\n",
    "                              'spVerbosity': 0,\n",
    "                              'spatialImp': 'cpp',\n",
    "                              'synPermActiveInc': 0.05,\n",
    "                              'synPermConnected': 0.1,\n",
    "                              'synPermInactiveDec': 0.05015},\n",
    "                 'tmEnable': True,\n",
    "                 'tmParams': {'activationThreshold': 14,\n",
    "                              'cellsPerColumn': 32,\n",
    "                              'columnCount': 2048,\n",
    "                              'globalDecay': 0.0,\n",
    "                              'initialPerm': 0.21,\n",
    "                              'inputWidth': 2048,\n",
    "                              'maxAge': 0,\n",
    "                              'maxSegmentsPerCell': 128,\n",
    "                              'maxSynapsesPerSegment': 32,\n",
    "                              'minThreshold': 11,\n",
    "                              'newSynapseCount': 20,\n",
    "                              'outputType': 'normal',\n",
    "                              'pamLength': 3,\n",
    "                              'permanenceDec': 0.1,\n",
    "                              'permanenceInc': 0.1,\n",
    "                              'seed': 1960,\n",
    "                              'temporalImp': 'cpp',\n",
    "                              'verbosity': 0},\n",
    "                 'trainSPNetOnlyIfRequested': False},\n",
    " 'predictAheadTime': None,\n",
    " 'version': 1}"
   ]
  },
  {
   "cell_type": "markdown",
   "metadata": {},
   "source": [
    "以下のAPIアルゴリズムのプログラムで読み込まれるパラメータに相当していますので、下のプログラムを、上のmodel_params.pyから読む形に変更するということになります。  \n",
    "model_params.py は、辞書型の変数が定義されているだけですので、プログラムと同じディレクトリに、このmodel_params.pyを置いて、プログラムで、from  model_params import MODEL_PARAMS とやれば、プログラム内で、辞書型の変数MODEL_PARAMSが参照できるようになります。  \n",
    "\n",
    "http://nupic.docs.numenta.org/1.0.1/quick-start/algorithms.html"
   ]
  },
  {
   "cell_type": "code",
   "execution_count": null,
   "metadata": {
    "collapsed": true
   },
   "outputs": [],
   "source": [
    "def runHotgym(numRecords):\n",
    "    with open(_PARAMS_PATH, \"r\") as f:\n",
    "        modelParams = yaml.safe_load(f)[\"modelParams\"]\n",
    "        enParams = modelParams[\"sensorParams\"][\"encoders\"]\n",
    "        spParams = modelParams[\"spParams\"]\n",
    "        tmParams = modelParams[\"tmParams\"]\n",
    "\n",
    "    timeOfDayEncoder = DateEncoder(\n",
    "    timeOfDay=enParams[\"timestamp_timeOfDay\"][\"timeOfDay\"])\n",
    "    weekendEncoder = DateEncoder(weekend=enParams[\"timestamp_weekend\"][\"weekend\"])\n",
    "    scalarEncoder = RandomDistributedScalarEncoder(enParams[\"consumption\"][\"resolution\"])\n",
    "\n",
    "    encodingWidth = (timeOfDayEncoder.getWidth()\n",
    "                   + weekendEncoder.getWidth()\n",
    "                   + scalarEncoder.getWidth())\n",
    "\n",
    "sp = SpatialPooler(\n",
    "    inputDimensions=(encodingWidth,),\n",
    "    columnDimensions=(spParams[\"columnCount\"],),\n",
    "    potentialPct=spParams[\"potentialPct\"],\n",
    "    potentialRadius=encodingWidth,\n",
    "    globalInhibition=spParams[\"globalInhibition\"],\n",
    "    localAreaDensity=spParams[\"localAreaDensity\"],\n",
    "    numActiveColumnsPerInhArea=spParams[\"numActiveColumnsPerInhArea\"],\n",
    "    synPermInactiveDec=spParams[\"synPermInactiveDec\"],\n",
    "    synPermActiveInc=spParams[\"synPermActiveInc\"],\n",
    "    synPermConnected=spParams[\"synPermConnected\"],\n",
    "    boostStrength=spParams[\"boostStrength\"],\n",
    "    seed=spParams[\"seed\"],\n",
    "    wrapAround=True\n",
    "  )\n",
    "\n",
    "tm = TemporalMemory(\n",
    "    columnDimensions=(tmParams[\"columnCount\"],),\n",
    "    cellsPerColumn=tmParams[\"cellsPerColumn\"],\n",
    "    activationThreshold=tmParams[\"activationThreshold\"],\n",
    "    initialPermanence=tmParams[\"initialPerm\"],\n",
    "    connectedPermanence=spParams[\"synPermConnected\"],\n",
    "    minThreshold=tmParams[\"minThreshold\"],\n",
    "    maxNewSynapseCount=tmParams[\"newSynapseCount\"],\n",
    "    permanenceIncrement=tmParams[\"permanenceInc\"],\n",
    "    permanenceDecrement=tmParams[\"permanenceDec\"],\n",
    "    predictedSegmentDecrement=0.0,\n",
    "    maxSegmentsPerCell=tmParams[\"maxSegmentsPerCell\"],\n",
    "    maxSynapsesPerSegment=tmParams[\"maxSynapsesPerSegment\"],\n",
    "    seed=tmParams[\"seed\"]\n",
    "  )"
   ]
  },
  {
   "cell_type": "markdown",
   "metadata": {},
   "source": [
    "# パラメータの読み出し例"
   ]
  },
  {
   "cell_type": "code",
   "execution_count": null,
   "metadata": {
    "collapsed": false
   },
   "outputs": [],
   "source": [
    "from model_params import MODEL_PARAMS\n",
    "\n",
    "#読み出し例\n",
    "MODEL_PARAMS['aggregationInfo']['days']\n"
   ]
  },
  {
   "cell_type": "markdown",
   "metadata": {},
   "source": [
    "上のプログラムでは、下のように、yaml からmodelParams を読んでいます。"
   ]
  },
  {
   "cell_type": "code",
   "execution_count": null,
   "metadata": {
    "collapsed": true
   },
   "outputs": [],
   "source": [
    "with open(_PARAMS_PATH, \"r\") as f:\n",
    "    modelParams = yaml.safe_load(f)[\"modelParams\"]\n",
    "    enParams = modelParams[\"sensorParams\"][\"encoders\"]\n",
    "    spParams = modelParams[\"spParams\"]\n",
    "    tmParams = modelParams[\"tmParams\"]"
   ]
  },
  {
   "cell_type": "markdown",
   "metadata": {},
   "source": [
    "そうではなしに、model_params.py から MODEL_PARAMS をインポートします。"
   ]
  },
  {
   "cell_type": "code",
   "execution_count": 5,
   "metadata": {
    "collapsed": false
   },
   "outputs": [
    {
     "name": "stdout",
     "output_type": "stream",
     "text": [
      "{'_classifierInput': {'classifierOnly': True, 'name': '_classifierInput', 'clipInput': True, 'n': 275, 'fieldname': 'consumption', 'w': 21, 'type': 'AdaptiveScalarEncoder'}, u'timestamp_weekend': None, u'timestamp_timeOfDay': None, u'consumption': {'name': 'consumption', 'clipInput': True, 'n': 272, 'fieldname': 'consumption', 'w': 21, 'type': 'AdaptiveScalarEncoder'}, u'timestamp_dayOfWeek': None}\n",
      "{'columnCount': 2048, 'synPermInactiveDec': 0.05015, 'spatialImp': 'cpp', 'synPermConnected': 0.1, 'seed': 1956, 'numActiveColumnsPerInhArea': 40, 'globalInhibition': 1, 'inputWidth': 0, 'spVerbosity': 0, 'synPermActiveInc': 0.05, 'potentialPct': 0.8, 'boostStrength': 0.0}\n",
      "{'columnCount': 2048, 'activationThreshold': 14, 'pamLength': 3, 'cellsPerColumn': 32, 'permanenceDec': 0.1, 'minThreshold': 11, 'inputWidth': 2048, 'maxSynapsesPerSegment': 32, 'outputType': 'normal', 'initialPerm': 0.21, 'globalDecay': 0.0, 'maxAge': 0, 'newSynapseCount': 20, 'maxSegmentsPerCell': 128, 'permanenceInc': 0.1, 'temporalImp': 'cpp', 'seed': 1960, 'verbosity': 0}\n"
     ]
    }
   ],
   "source": [
    "from model_params import MODEL_PARAMS\n",
    "\n",
    "enParams = MODEL_PARAMS['modelParams'][\"sensorParams\"][\"encoders\"]\n",
    "spParams = MODEL_PARAMS['modelParams'][\"spParams\"]\n",
    "tmParams = MODEL_PARAMS['modelParams'][\"tmParams\"]\n",
    "    \n",
    "print enParams\n",
    "print spParams\n",
    "print tmParams\n"
   ]
  },
  {
   "cell_type": "code",
   "execution_count": null,
   "metadata": {
    "collapsed": true
   },
   "outputs": [],
   "source": []
  }
 ],
 "metadata": {
  "kernelspec": {
   "display_name": "Python [Root]",
   "language": "python",
   "name": "Python [Root]"
  },
  "language_info": {
   "codemirror_mode": {
    "name": "ipython",
    "version": 2
   },
   "file_extension": ".py",
   "mimetype": "text/x-python",
   "name": "python",
   "nbconvert_exporter": "python",
   "pygments_lexer": "ipython2",
   "version": "2.7.11"
  }
 },
 "nbformat": 4,
 "nbformat_minor": 0
}
